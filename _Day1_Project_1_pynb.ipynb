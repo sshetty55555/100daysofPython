{
  "nbformat": 4,
  "nbformat_minor": 0,
  "metadata": {
    "colab": {
      "name": "#Day1_Project 1 .pynb",
      "provenance": [],
      "collapsed_sections": [],
      "include_colab_link": true
    },
    "kernelspec": {
      "name": "python3",
      "display_name": "Python 3"
    }
  },
  "cells": [
    {
      "cell_type": "markdown",
      "metadata": {
        "id": "view-in-github",
        "colab_type": "text"
      },
      "source": [
        "<a href=\"https://colab.research.google.com/github/sshetty55555/100daysofPython/blob/main/_Day1_Project_1_pynb.ipynb\" target=\"_parent\"><img src=\"https://colab.research.google.com/assets/colab-badge.svg\" alt=\"Open In Colab\"/></a>"
      ]
    },
    {
      "cell_type": "markdown",
      "metadata": {
        "id": "YZnBY81YDCCr"
      },
      "source": [
        "### Instructions"
      ]
    },
    {
      "cell_type": "markdown",
      "metadata": {
        "id": "bEyBzxYRhrLG"
      },
      "source": [
        "#### Goal of the Project\n",
        "\n",
        "This project is designed for you to practice and solve the activities that are based on the concepts covered in the following lessons:\n",
        "\n",
        " 1. Variables and Data-Types\n"
      ]
    },
    {
      "cell_type": "markdown",
      "metadata": {
        "id": "DPOFIO3EHncO"
      },
      "source": [
        "---"
      ]
    },
    {
      "cell_type": "markdown",
      "metadata": {
        "id": "krym8CeMhscq"
      },
      "source": [
        "#### Getting Started:\n",
        "\n",
        "1. Click on the following link to open the Colab file for this project.\n",
        "\n",
        "    https://colab.research.google.com/drive/1tKSAX7H1Xq6PNpkq4z38o83eTmnhzYzy?usp=sharing\n",
        "\n",
        "2. Create a duplicate copy of the Colab file as described below.\n",
        "\n",
        "  - Click on the **File menu**. A new drop-down list will appear.\n",
        "\n",
        "   <img src='https://student-datasets-bucket.s3.ap-south-1.amazonaws.com/images/lesson-0/0_file_menu.png' width=500>\n",
        "\n",
        "  - Click on the **Save a copy in Drive** option. A duplicate copy will get created. It will open up in the new tab on your web browser.\n",
        "\n",
        "  <img src='https://student-datasets-bucket.s3.ap-south-1.amazonaws.com/images/lesson-0/1_create_colab_duplicate_copy.png' width=500>\n",
        "\n",
        "3. After creating the duplicate copy of the notebook, please rename it in the **YYYY-MM-DD_StudentName_Project1** format.\n",
        "\n",
        "4. Now, write your code in the prescribed code cells.\n"
      ]
    },
    {
      "cell_type": "markdown",
      "metadata": {
        "id": "BBqkpH4_Doqe"
      },
      "source": [
        "---"
      ]
    },
    {
      "cell_type": "markdown",
      "metadata": {
        "id": "n3TEXqATm1yd"
      },
      "source": [
        "### Activities"
      ]
    },
    {
      "cell_type": "markdown",
      "metadata": {
        "id": "q4fH06mIjuK3"
      },
      "source": [
        "#### Activity 1: Print name and email id\n",
        "\n",
        "Here you need to accept the name and email id from the user and display it.\n",
        "\n",
        "For example: \n",
        "\n",
        "             Enter your name : Sam\n",
        "             Enter your email id : sam@gmail.com\n",
        "             Hello Sam, your email id is sam@gmail.com\n",
        "\n",
        "Follow the steps given below to achieve the desired result:\n",
        "\n",
        "  - **Step 1:** Ask the user to enter a name using `input()` function and store it in the `name` variable.\n",
        "  - **Step 2:** Ask the user to enter an email id using `input()` function and store it in the `email` variable.\n",
        "  - **Step 3:** Print the values of `name` and `email` variables using `print()` function.\n"
      ]
    },
    {
      "cell_type": "code",
      "metadata": {
        "id": "4EAoTskqg041",
        "colab": {
          "base_uri": "https://localhost:8080/"
        },
        "outputId": "7b45b9d7-3939-486c-8864-d9dc069fb015"
      },
      "source": [
        "# Write your code here\n",
        "# Step 1: Ask the user to enter a name\n",
        "name = input(\"Please enter your name :\")\n",
        "# Step 2: Ask the user to enter an email id\n",
        "email = input(\"Please enter your email :\")\n",
        "# Step 3: Print name and email id\n",
        "print(name,email)"
      ],
      "execution_count": 1,
      "outputs": [
        {
          "output_type": "stream",
          "text": [
            "Please enter your namesss\n",
            "Please enter your emailssa@\n",
            "sss ssa@\n"
          ],
          "name": "stdout"
        }
      ]
    },
    {
      "cell_type": "markdown",
      "metadata": {
        "id": "xJlPs9X9oeRw"
      },
      "source": [
        "---"
      ]
    },
    {
      "cell_type": "markdown",
      "metadata": {
        "id": "qA-b1CdeofKc"
      },
      "source": [
        "#### Activity 2: Display the average of marks in 3 subjects\n",
        "\n",
        "Calculate the average of marks scored in 3 subjects and display the result.\n",
        "\n",
        "For example: \n",
        "\n",
        "    mark1= 56\n",
        "    mark2= 73\n",
        "    mark3= 69\n",
        "    Average Marks = 66\n",
        "\n",
        "Follow the steps given below to achieve the desired result:\n",
        "\n",
        "- **Step 1:** Declare three variables `mark1`, `mark2` and `mark3` respectively and store any numerical values in it.\n",
        "\n",
        "- **Step 2:** Use another variable `sum` to store the sum of values in  `mark1`, `mark2` and `mark3` variables.\n",
        "\n",
        "- **Step 3:** Calculate the average by dividing the `sum` variable by 3. Store the result in the variable `average`.\n",
        "\n",
        "- **Step 4:** Print the average marks."
      ]
    },
    {
      "cell_type": "code",
      "metadata": {
        "id": "AtvPTG3kpBoS",
        "colab": {
          "base_uri": "https://localhost:8080/"
        },
        "outputId": "9aa36209-3828-41ef-c30e-db6929795b14"
      },
      "source": [
        "# Write your code here\n",
        "# Step 1: Declare three variables 'mark1', 'mark2' and 'mark3' respectively and store any numerical values in them\n",
        "mark1=91\n",
        "mark2 = 92\n",
        "mark3 = 95\n",
        "# Step 2: Use 'sum' variable to store their sum\n",
        "sum = mark1 + mark2 + mark3\n",
        "# Step 3: Calculate the average by dividing the 'sum' by 3 and storing it in the variable 'average' \n",
        "avg = sum/3\n",
        "# Step 4: Use print() function to display the average marks\n",
        "print(avg)"
      ],
      "execution_count": 2,
      "outputs": [
        {
          "output_type": "stream",
          "text": [
            "92.66666666666667\n"
          ],
          "name": "stdout"
        }
      ]
    },
    {
      "cell_type": "markdown",
      "metadata": {
        "id": "KOVBiUSMzut1"
      },
      "source": [
        "---"
      ]
    },
    {
      "cell_type": "markdown",
      "metadata": {
        "id": "BNlGj8NNJ1Y0"
      },
      "source": [
        "### Submitting the Project:\n",
        "\n",
        "1. After finishing the project, click on the **Share** button on the top right corner of the notebook. A new dialog box will appear.\n",
        "\n",
        "  <img src='https://student-datasets-bucket.s3.ap-south-1.amazonaws.com/images/project-share-images/2_share_button.png' width=500>\n",
        "\n",
        "2. In the dialog box, make sure that '**Anyone on the Internet with this link can view**' option is selected and then click on the **Copy link** button.\n",
        "\n",
        "   <img src='https://student-datasets-bucket.s3.ap-south-1.amazonaws.com/images/project-share-images/3_copy_link.png' width=500>\n",
        "\n",
        "3. The link of the duplicate copy (named as **YYYY-MM-DD_StudentName_Project1**) of the notebook will get copied \n",
        "\n",
        "   <img src='https://student-datasets-bucket.s3.ap-south-1.amazonaws.com/images/project-share-images/4_copy_link_confirmation.png' width=500>\n",
        "\n",
        "4. Go to your dashboard and click on the **My Projects** option.\n",
        "   \n",
        "   <img src='https://student-datasets-bucket.s3.ap-south-1.amazonaws.com/images/project-share-images/5_student_dashboard.png' width=800>\n",
        "\n",
        "  <img src='https://student-datasets-bucket.s3.ap-south-1.amazonaws.com/images/project-share-images/6_my_projects.png' width=800>\n",
        "\n",
        "5. Click on the **View Project** button for the project you want to submit.\n",
        "\n",
        "   <img src='https://student-datasets-bucket.s3.ap-south-1.amazonaws.com/images/project-share-images/7_view_project.png' width=800>\n",
        "\n",
        "6. Click on the **Submit Project Here** button.\n",
        "\n",
        "   <img src='https://student-datasets-bucket.s3.ap-south-1.amazonaws.com/images/project-share-images/8_submit_project.png' width=800>\n",
        "\n",
        "7. Paste the link to the project file named as **YYYY-MM-DD_StudentName_Project1** in the URL box and then click on the **Submit** button.\n",
        "\n",
        "   <img src='https://student-datasets-bucket.s3.ap-south-1.amazonaws.com/images/project-share-images/9_enter_project_url.png' width=800> "
      ]
    },
    {
      "cell_type": "markdown",
      "metadata": {
        "id": "HSz7jRSlGxIO"
      },
      "source": [
        "---"
      ]
    }
  ]
}